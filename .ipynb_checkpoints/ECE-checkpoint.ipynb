{
 "cells": [
  {
   "cell_type": "code",
   "execution_count": 1,
   "id": "0e64a88e",
   "metadata": {},
   "outputs": [],
   "source": [
    "from selenium import webdriver\n",
    "from selenium.webdriver.common.by import By\n",
    "from selenium.webdriver.common.keys import Keys\n",
    "from selenium.webdriver.chrome.options import Options\n",
    "from selenium.webdriver.chrome.service import Service\n",
    "from selenium.common.exceptions import NoSuchElementException\n",
    "from selenium.webdriver.support.ui import WebDriverWait\n",
    "from selenium.webdriver.support import expected_conditions as EC\n",
    "\n",
    "from bs4 import BeautifulSoup as BS\n",
    "from datetime import datetime\n",
    "\n",
    "import pandas as pd\n",
    "import time\n",
    "import sys, os\n",
    "import re\n",
    "import json, requests\n",
    "\n",
    "\n",
    "def find_css(css_selector, browser):\n",
    "    return browser.find_element(By.CSS_SELECTOR, css_selector)\n",
    "def finds_css(css_selector, browser):\n",
    "    return browser.find_elements(By.CSS_SELECTOR, css_selector)\n",
    "\n",
    "def find_xpath(xpath, browser):\n",
    "    return browser.find_element(By.XPATH, xpath)\n",
    "def finds_xpath(xpath, browser):\n",
    "    return browser.find_elements(By.XPATH, xpath)\n",
    "\n",
    "def find_id(e_id, browser):\n",
    "    return browser.find_element(By.ID, e_id)\n",
    "\n",
    "def find_className(cn, browser):\n",
    "    return browser.find_element(By.CLASS_NAME, cn)\n",
    "def finds_className(cn , browser):\n",
    "    return browser.find_elements(By.CLASS_NAME, cn)\n",
    "\n",
    "def find_linktext(lt, browser):\n",
    "    return browser.find_element(By.LINK_TEXT, lt)\n",
    "\n",
    "def find_name(name, browser):\n",
    "    return browser.find_element(By.NAME, name)\n",
    "def finds_name(name, browser):\n",
    "    return browser.find_elements(By.NAME, name)\n",
    "\n",
    "def find_tagName(tag_name, browser):\n",
    "    return browser.find_element(By.TAG_NAME, tag_name)\n",
    "\n",
    "def finds_tagName(tag_name, browser):\n",
    "    return browser.find_elements(By.TAG_NAME, tag_name)\n",
    "\n",
    "def resource_path(relative_path):\n",
    "    \"\"\" Get absolute path to resource, works for dev and for PyInstaller \"\"\"\n",
    "    base_path = getattr(sys, '_MEIPASS', os.path.dirname(os.path.abspath(__file__)))\n",
    "    return os.path.join(base_path, relative_path)"
   ]
  },
  {
   "cell_type": "code",
   "execution_count": 2,
   "id": "adacbc8d",
   "metadata": {},
   "outputs": [],
   "source": [
    "def open_browser():\n",
    "    options = webdriver.ChromeOptions()\n",
    "    options.add_argument('--no--sandbox')\n",
    "    options.add_argument('no-sandbox')\n",
    "    options.add_argument('--disable-dev-shm-suage')\n",
    "    options.add_argument('--window-size=1080,800')\n",
    "    options.add_argument('incognito')\n",
    "    chrome_service = Service('chromedriver')\n",
    "    chrome_service = Service(executable_path='chromedriver.exe')\n",
    "    \n",
    "    browser = webdriver.Chrome(service=chrome_service, options=options)\n",
    "    \n",
    "    return browser"
   ]
  },
  {
   "cell_type": "code",
   "execution_count": 3,
   "id": "7f26a842",
   "metadata": {},
   "outputs": [],
   "source": [
    "def get_url(browser, url):\n",
    "    browser.get(url)\n",
    "    time.sleep(1)"
   ]
  },
  {
   "cell_type": "code",
   "execution_count": 4,
   "id": "0d719f63",
   "metadata": {},
   "outputs": [],
   "source": [
    "df = pd.read_excel('전국_상장회사_data.xlsx', 'seoul_data')"
   ]
  },
  {
   "cell_type": "code",
   "execution_count": 5,
   "id": "466dc0bc",
   "metadata": {},
   "outputs": [],
   "source": [
    "url_list = df['홈페이지'].to_list()\n",
    "company_name_list = df['회사명'].to_list()"
   ]
  },
  {
   "cell_type": "code",
   "execution_count": 6,
   "id": "3a590673",
   "metadata": {},
   "outputs": [
    {
     "name": "stdout",
     "output_type": "stream",
     "text": [
      "1684\n",
      "1684\n"
     ]
    }
   ],
   "source": [
    "print(len(url_list))\n",
    "print(len(company_name_list))"
   ]
  },
  {
   "cell_type": "code",
   "execution_count": 12,
   "id": "ed0da2e6",
   "metadata": {},
   "outputs": [],
   "source": [
    "url_list_test = url_list[0:100]\n",
    "company_name_list_test = company_name_list[0:100]"
   ]
  },
  {
   "cell_type": "code",
   "execution_count": 13,
   "id": "f62f62b5",
   "metadata": {
    "scrolled": true
   },
   "outputs": [
    {
     "name": "stdout",
     "output_type": "stream",
     "text": [
      "제이엔비 : ['jnb@jnbeng.com']\n",
      "동인기연 : ['info@dong-in.com', 'info@dong-in.com']\n",
      "에코아이 : ['info@dong-in.com', 'info@dong-in.com']\n",
      "스톰테크 : ['bill@stormtec.co.kr', 'sales@stormtec.co.kr']\n",
      "캡스톤파트너스 : ['E-MAILmaster@cspartners.co.kr', 'INVESTMENTbiz@cspartners.co.kr']\n",
      "프로젠 : ['ir@progen.co.kr']\n",
      "에이직랜드 : ['ir@progen.co.kr']\n",
      "비아이매트릭스 : []\n",
      "쏘닉스 : ['sawsales@sawnics.com']\n",
      "세니젠 : []\n",
      "유투바이오 : []\n",
      "퀄리타스반도체 : ['sales@q-semi.com', 'recruit@q-semi.com', 'ir@q-semi.com']\n",
      "미쥬 : []\n",
      "워트 : ['wot8600@wot.co.kr']\n",
      "에스엘에스바이오 : []\n",
      "아이엠티 : ['inquiry.imt@gmail.com', 'sales_imt@imt-c.co.kr', 'inquiry.imt@gmail.com', 'sales_imt@imt-c.co.kr']\n",
      "레뷰코퍼레이션 : ['help@revu.net']\n",
      "두산로보틱스 : ['help@revu.net']\n",
      "한싹 : []\n",
      "밀리의서재 : []\n",
      "인스웨이브시스템즈 : []\n",
      "코어라인소프트 : ['Esales@corelinesoft.com', 'Eobd@corelinesoft.com', 'Esupport@corelinesoft.com', 'Eir@corelinesoft.com', 'Einfo@corelinesoft.eu', 'Fusa@corelinesoft.com']\n",
      "율촌 : []\n",
      "한화플러스제4호스팩 : []\n",
      "크라우드웍스 : []\n",
      "시큐레터 : ['contact@seculetter.com']\n",
      "스마트레이더시스템 : ['contact@seculetter.com']\n",
      "빅텐츠 : []\n",
      "코츠테크놀로지 : []\n",
      "큐리옥스바이오시스템즈 : ['curioxIR@curiox.com']\n",
      "파두 : ['sales@fadu.io', 'sales@fadu.io']\n",
      "엠아이큐브솔루션 : ['sales@micube.co.kr', 'sales@micube.co.kr']\n",
      "파로스아이바이오 : []\n",
      "버넥트 : ['contact@virnect.com', 'support@virnect.com', 'contact@virnect.com', 'support@virnect.com', 'contact@virnect.com', 'support@virnect.com']\n",
      "와이랩 : []\n",
      "센서뷰 : ['sales@sensor-view.com']\n",
      "아이엠지티 : ['nanoimgt@nanoimgt.com', 'nanoimgt@nanoimgt.com', 'changho.jung@nanoimgt.com']\n",
      "필에너지 : []\n",
      "이노시뮬레이션 : []\n",
      "이브이파킹서비스 : ['info@evps.co.kr']\n",
      "오픈놀 : []\n",
      "시큐센 : []\n",
      "가이아코퍼레이션 : []\n",
      "동국씨엠 : []\n",
      "동국제강 : []\n",
      "프로티아 : []\n",
      "큐라티스 : ['info@quratis.com']\n",
      "마녀공장 : []\n",
      "나라셀라 : []\n",
      "이수스페셜티케미컬 : []\n",
      "기가비스 : ['company@gigavis.com', 'kimws050@gigavis.com', 'kimws050@gigavis.com', 'kimws050@gigavis.com']\n",
      "팸텍 : ['pamtek@pamtek.com']\n",
      "씨유박스 : []\n",
      "트루엔 : ['ds@truen.co.kr', 'ir@truen.co.kr']\n",
      "에스바이오메딕스 : []\n",
      "슈어소프트테크 : []\n",
      "토마토시스템 : []\n",
      "마이크로투나노 : []\n",
      "셀바이오휴먼텍 : ['Sales@cellbiohumantech.co.kr', 'HRM@cellbiohumantech.co.krCopyright']\n",
      "노보믹스 : ['info@novomics.com', 'info@novomics.com']\n",
      "삼성FN리츠 : []\n",
      "현대그린푸드 : []\n",
      "한화갤러리아 : []\n",
      "지아이이노베이션 : ['ir@gi-innovation.com', 'ir@gi-innovation.com']\n",
      "LB인베스트먼트 : ['lbadmin@lbinvestment.com']\n",
      "엑스게이트 : []\n",
      "자람테크놀로지 : []\n",
      "바이오인프라 : ['supporter@bioinfrakorea.co.kr']\n",
      "이노진 : ['info@innogene.com']\n",
      "Unable to access the homepage\n",
      "샌즈랩 : ['info@innogene.com']\n",
      "꿈비 : ['info@ggumbi.com']\n",
      "스튜디오미르 : []\n",
      "코오롱모빌리티그룹 : []\n",
      "오브젠 : []\n",
      "미래반도체 : []\n",
      "지슨 : ['sales@gitsn.com']\n",
      "옵티코어 : ['Sales@opticore.co.kr']\n",
      "아이오바이오 : ['aiobio@aiobio.co.kr']\n",
      "타이드 : []\n",
      "지에프씨생명과학 : []\n",
      "바이오노트 : []\n",
      "비엔케이제1호스팩 : []\n",
      "애니메디솔루션 : []\n",
      "IBKS제21호스팩 : []\n",
      "핑거스토리 : []\n",
      "SAMG엔터 : []\n",
      "유진스팩9호 : []\n",
      "아하 : ['aha@i-aha.com']\n",
      "에이아이더뉴트리진 : ['help@aithenutrigene.com', 'help@aithenutrigene.com', 'donghun.lee@aithenutrigene.com']\n",
      "펨트론 : ['sales@pemtron.com']\n",
      "인벤티지랩 : ['contact@inventagelab.com', 'contact@inventagelab.com', 'by.jeong@inventagelab.com', 'kklee@inventagelab.com']\n",
      "엔젯 : ['E-MAILsales@enjet.co.kr']\n",
      "유비온 : []\n",
      "티쓰리 : []\n",
      "티에프이 : ['mt_01@jmt21.jpCopyright']\n",
      "윤성에프앤씨 : ['info@ysfc.co.kr']\n",
      "디티앤씨알오 : []\n",
      "뉴로메카 : ['sales.usa@neuromeka.com', 'pr@neuromeka.com']\n",
      "큐알티 : []\n",
      "IBKS제20호스팩 : []\n"
     ]
    }
   ],
   "source": [
    "data = {}\n",
    "count = 0\n",
    "\n",
    "hdr = {'User-Agent':'Mozilla/5.0 (Windows NT 10.0; Win64; x64) AppleWebKit/537.36 (KHTML, like Gecko) Chrome/121.0.0.0 Safari/537.36'}\n",
    "\n",
    "\n",
    "for url, company_name in zip(url_list_test, company_name_list_test):\n",
    "    try:\n",
    "        count2 = 0\n",
    "        while True:\n",
    "            response = requests.get(url, headers=hdr)\n",
    "            count2 += 1\n",
    "            if count2 == 10:\n",
    "                break\n",
    "            if response.status_code == 200:\n",
    "                soup = BS(response.text, 'html.parser')\n",
    "                if soup.find_all('html'):\n",
    "                    page_text = soup.get_text()\n",
    "                    email_pattern = r'\\b[A-Za-z0-9._%+-]+@[A-Za-z0-9.-]+\\.[A-Z|a-z]{2,}\\b'\n",
    "                    email_formats = re.findall(email_pattern, page_text)\n",
    "                    break\n",
    "\n",
    "            else:\n",
    "                print('Unable to access the homepage')\n",
    "                break\n",
    "\n",
    "        data[f'{company_name}'] = []\n",
    "        for email in email_formats:\n",
    "            data[f'{company_name}'].append({\n",
    "                email\n",
    "            })\n",
    "        count += 1\n",
    "        print(f'{company_name} : {email_formats}')\n",
    "    except Exception as ex:\n",
    "        pass"
   ]
  },
  {
   "cell_type": "code",
   "execution_count": 8,
   "id": "107e0855",
   "metadata": {},
   "outputs": [
    {
     "ename": "NameError",
     "evalue": "name 'data' is not defined",
     "output_type": "error",
     "traceback": [
      "\u001b[1;31m---------------------------------------------------------------------------\u001b[0m",
      "\u001b[1;31mNameError\u001b[0m                                 Traceback (most recent call last)",
      "Cell \u001b[1;32mIn[8], line 1\u001b[0m\n\u001b[1;32m----> 1\u001b[0m data\n",
      "\u001b[1;31mNameError\u001b[0m: name 'data' is not defined"
     ]
    }
   ],
   "source": [
    "data"
   ]
  },
  {
   "cell_type": "code",
   "execution_count": 171,
   "id": "3ec4f8ab",
   "metadata": {},
   "outputs": [],
   "source": [
    "rows = []\n",
    "for company, emails in data.items():\n",
    "    for email_set in emails:\n",
    "        for email in email_set:\n",
    "            rows.append({'company_name': company, 'Email': email})"
   ]
  },
  {
   "cell_type": "code",
   "execution_count": 167,
   "id": "39309411",
   "metadata": {},
   "outputs": [],
   "source": [
    "final_df = pd.DataFrame(rows)"
   ]
  },
  {
   "cell_type": "code",
   "execution_count": 172,
   "id": "1000c028",
   "metadata": {},
   "outputs": [
    {
     "name": "stdout",
     "output_type": "stream",
     "text": [
      "    company_name                          Email\n",
      "0           제이엔비                 jnb@jnbeng.com\n",
      "1           동인기연               info@dong-in.com\n",
      "3           에코아이               info@dong-in.com\n",
      "5           스톰테크            bill@stormtec.co.kr\n",
      "7        캡스톤파트너스  E-MAILmaster@cspartners.co.kr\n",
      "..           ...                            ...\n",
      "748      오리엔트바이오     deokgyeom.kim@orient.co.kr\n",
      "749         한신공영              gssa@hanshinc.com\n",
      "755         신라교역            webmaster@sla.co.kr\n",
      "756        GS글로벌             jgmoon@gsgcorp.com\n",
      "759       태양금속공업       taeyang@taeyangmetal.com\n",
      "\n",
      "[398 rows x 2 columns]\n"
     ]
    }
   ],
   "source": [
    "final_df = final_df.drop_duplicates(subset='company_name', keep='first')\n",
    "print(final_df)"
   ]
  },
  {
   "cell_type": "code",
   "execution_count": 173,
   "id": "b3b58147",
   "metadata": {},
   "outputs": [],
   "source": [
    "final_df.to_excel('test_email2.xlsx', index=False)"
   ]
  },
  {
   "cell_type": "markdown",
   "id": "4c96efeb",
   "metadata": {},
   "source": [
    "--------------"
   ]
  },
  {
   "cell_type": "markdown",
   "id": "00359cc4",
   "metadata": {},
   "source": [
    "-------------"
   ]
  },
  {
   "cell_type": "code",
   "execution_count": 34,
   "id": "af883f73",
   "metadata": {},
   "outputs": [],
   "source": [
    "email_pattern = r'\\b[A-Za-z0-9._%+-]+@[A-Za-z0-9.-]+\\.[A-Z|a-z]{2,}\\b'\n",
    "email_formats = re.findall(email_pattern, page_text)\n",
    "\n",
    "for email in email_formats:\n",
    "    print(email)"
   ]
  },
  {
   "cell_type": "code",
   "execution_count": 8,
   "id": "78180dc2",
   "metadata": {},
   "outputs": [],
   "source": [
    "main = browser.window_handles\n",
    "\n",
    "for i in main:\n",
    "    if i != main[0]:\n",
    "        browser.switch_to.window(i)\n",
    "        browser.close()"
   ]
  },
  {
   "cell_type": "code",
   "execution_count": 32,
   "id": "3612c6c0",
   "metadata": {},
   "outputs": [
    {
     "name": "stdout",
     "output_type": "stream",
     "text": [
      "jnb@jnbeng.com\n"
     ]
    }
   ],
   "source": []
  },
  {
   "cell_type": "code",
   "execution_count": 15,
   "id": "2c187982",
   "metadata": {},
   "outputs": [
    {
     "name": "stdout",
     "output_type": "stream",
     "text": [
      "\n",
      "\n",
      "(주)제이엔비 17708 경기도 평택시 진위면 진위2산단로 31-21\n",
      "TEL. 031)8015-2001    FAX. 031)8015-2005    MAIL. jnb@jnbeng.com\n",
      "\n",
      "COPYRIGHT 2021⒞ JNB, ALL RIGHTS RESERVED.\n",
      "\n",
      "\n"
     ]
    }
   ],
   "source": [
    "soup = BS(browser.page_source, 'html.parser')\n",
    "\n",
    "footer_text = soup.find('footer').get_text() if soup.find('footer') else None\n",
    "print(footer_text)"
   ]
  },
  {
   "cell_type": "code",
   "execution_count": 10,
   "id": "1fd4a427",
   "metadata": {
    "scrolled": true
   },
   "outputs": [
    {
     "name": "stdout",
     "output_type": "stream",
     "text": [
      "\n",
      "\n",
      "(주)제이엔비 17708 경기도 평택시 진위면 진위2산단로 31-21\n",
      "TEL. 031)8015-2001    FAX. 031)8015-2005    MAIL. jnb@jnbeng.com\n",
      "\n",
      "COPYRIGHT 2021⒞ JNB, ALL RIGHTS RESERVED.\n",
      "\n",
      "\n",
      "----------------------------------------\n"
     ]
    },
    {
     "ename": "NoSuchWindowException",
     "evalue": "Message: no such window: target window already closed\nfrom unknown error: web view not found\n  (Session info: chrome=121.0.6167.161)\nStacktrace:\n\tGetHandleVerifier [0x00007FF6B64A5E42+3538674]\n\t(No symbol) [0x00007FF6B60C4C02]\n\t(No symbol) [0x00007FF6B5F75AEB]\n\t(No symbol) [0x00007FF6B5F5288C]\n\t(No symbol) [0x00007FF6B5FE5DD7]\n\t(No symbol) [0x00007FF6B5FFB40F]\n\t(No symbol) [0x00007FF6B5FDEE53]\n\t(No symbol) [0x00007FF6B5FAF514]\n\t(No symbol) [0x00007FF6B5FB0631]\n\tGetHandleVerifier [0x00007FF6B64D6CAD+3738973]\n\tGetHandleVerifier [0x00007FF6B652C506+4089270]\n\tGetHandleVerifier [0x00007FF6B6524823+4057299]\n\tGetHandleVerifier [0x00007FF6B61F5C49+720121]\n\t(No symbol) [0x00007FF6B60D126F]\n\t(No symbol) [0x00007FF6B60CC304]\n\t(No symbol) [0x00007FF6B60CC432]\n\t(No symbol) [0x00007FF6B60BBD04]\n\tBaseThreadInitThunk [0x00007FFECD217344+20]\n\tRtlUserThreadStart [0x00007FFECE4426B1+33]\n",
     "output_type": "error",
     "traceback": [
      "\u001b[1;31m---------------------------------------------------------------------------\u001b[0m",
      "\u001b[1;31mNoSuchWindowException\u001b[0m                     Traceback (most recent call last)",
      "Cell \u001b[1;32mIn[10], line 5\u001b[0m\n\u001b[0;32m      3\u001b[0m \u001b[38;5;28;01mfor\u001b[39;00m url \u001b[38;5;129;01min\u001b[39;00m url_list:\n\u001b[0;32m      4\u001b[0m     get_url(browser, url)\n\u001b[1;32m----> 5\u001b[0m     soup \u001b[38;5;241m=\u001b[39m BS(browser\u001b[38;5;241m.\u001b[39mpage_source, \u001b[38;5;124m'\u001b[39m\u001b[38;5;124mhtml.parser\u001b[39m\u001b[38;5;124m'\u001b[39m)\n\u001b[0;32m      7\u001b[0m     footer_text \u001b[38;5;241m=\u001b[39m soup\u001b[38;5;241m.\u001b[39mfind(\u001b[38;5;124m'\u001b[39m\u001b[38;5;124mfooter\u001b[39m\u001b[38;5;124m'\u001b[39m)\u001b[38;5;241m.\u001b[39mget_text() \u001b[38;5;28;01mif\u001b[39;00m soup\u001b[38;5;241m.\u001b[39mfind(\u001b[38;5;124m'\u001b[39m\u001b[38;5;124mfooter\u001b[39m\u001b[38;5;124m'\u001b[39m) \u001b[38;5;28;01melse\u001b[39;00m \u001b[38;5;28;01mNone\u001b[39;00m\n\u001b[0;32m      8\u001b[0m     \u001b[38;5;28mprint\u001b[39m(footer_text)\n",
      "File \u001b[1;32m~\\anaconda3\\Lib\\site-packages\\selenium\\webdriver\\remote\\webdriver.py:448\u001b[0m, in \u001b[0;36mWebDriver.page_source\u001b[1;34m(self)\u001b[0m\n\u001b[0;32m    439\u001b[0m \u001b[38;5;129m@property\u001b[39m\n\u001b[0;32m    440\u001b[0m \u001b[38;5;28;01mdef\u001b[39;00m \u001b[38;5;21mpage_source\u001b[39m(\u001b[38;5;28mself\u001b[39m) \u001b[38;5;241m-\u001b[39m\u001b[38;5;241m>\u001b[39m \u001b[38;5;28mstr\u001b[39m:\n\u001b[0;32m    441\u001b[0m \u001b[38;5;250m    \u001b[39m\u001b[38;5;124;03m\"\"\"Gets the source of the current page.\u001b[39;00m\n\u001b[0;32m    442\u001b[0m \n\u001b[0;32m    443\u001b[0m \u001b[38;5;124;03m    :Usage:\u001b[39;00m\n\u001b[1;32m   (...)\u001b[0m\n\u001b[0;32m    446\u001b[0m \u001b[38;5;124;03m            driver.page_source\u001b[39;00m\n\u001b[0;32m    447\u001b[0m \u001b[38;5;124;03m    \"\"\"\u001b[39;00m\n\u001b[1;32m--> 448\u001b[0m     \u001b[38;5;28;01mreturn\u001b[39;00m \u001b[38;5;28mself\u001b[39m\u001b[38;5;241m.\u001b[39mexecute(Command\u001b[38;5;241m.\u001b[39mGET_PAGE_SOURCE)[\u001b[38;5;124m\"\u001b[39m\u001b[38;5;124mvalue\u001b[39m\u001b[38;5;124m\"\u001b[39m]\n",
      "File \u001b[1;32m~\\anaconda3\\Lib\\site-packages\\selenium\\webdriver\\remote\\webdriver.py:347\u001b[0m, in \u001b[0;36mWebDriver.execute\u001b[1;34m(self, driver_command, params)\u001b[0m\n\u001b[0;32m    345\u001b[0m response \u001b[38;5;241m=\u001b[39m \u001b[38;5;28mself\u001b[39m\u001b[38;5;241m.\u001b[39mcommand_executor\u001b[38;5;241m.\u001b[39mexecute(driver_command, params)\n\u001b[0;32m    346\u001b[0m \u001b[38;5;28;01mif\u001b[39;00m response:\n\u001b[1;32m--> 347\u001b[0m     \u001b[38;5;28mself\u001b[39m\u001b[38;5;241m.\u001b[39merror_handler\u001b[38;5;241m.\u001b[39mcheck_response(response)\n\u001b[0;32m    348\u001b[0m     response[\u001b[38;5;124m\"\u001b[39m\u001b[38;5;124mvalue\u001b[39m\u001b[38;5;124m\"\u001b[39m] \u001b[38;5;241m=\u001b[39m \u001b[38;5;28mself\u001b[39m\u001b[38;5;241m.\u001b[39m_unwrap_value(response\u001b[38;5;241m.\u001b[39mget(\u001b[38;5;124m\"\u001b[39m\u001b[38;5;124mvalue\u001b[39m\u001b[38;5;124m\"\u001b[39m, \u001b[38;5;28;01mNone\u001b[39;00m))\n\u001b[0;32m    349\u001b[0m     \u001b[38;5;28;01mreturn\u001b[39;00m response\n",
      "File \u001b[1;32m~\\anaconda3\\Lib\\site-packages\\selenium\\webdriver\\remote\\errorhandler.py:229\u001b[0m, in \u001b[0;36mErrorHandler.check_response\u001b[1;34m(self, response)\u001b[0m\n\u001b[0;32m    227\u001b[0m         alert_text \u001b[38;5;241m=\u001b[39m value[\u001b[38;5;124m\"\u001b[39m\u001b[38;5;124malert\u001b[39m\u001b[38;5;124m\"\u001b[39m]\u001b[38;5;241m.\u001b[39mget(\u001b[38;5;124m\"\u001b[39m\u001b[38;5;124mtext\u001b[39m\u001b[38;5;124m\"\u001b[39m)\n\u001b[0;32m    228\u001b[0m     \u001b[38;5;28;01mraise\u001b[39;00m exception_class(message, screen, stacktrace, alert_text)  \u001b[38;5;66;03m# type: ignore[call-arg]  # mypy is not smart enough here\u001b[39;00m\n\u001b[1;32m--> 229\u001b[0m \u001b[38;5;28;01mraise\u001b[39;00m exception_class(message, screen, stacktrace)\n",
      "\u001b[1;31mNoSuchWindowException\u001b[0m: Message: no such window: target window already closed\nfrom unknown error: web view not found\n  (Session info: chrome=121.0.6167.161)\nStacktrace:\n\tGetHandleVerifier [0x00007FF6B64A5E42+3538674]\n\t(No symbol) [0x00007FF6B60C4C02]\n\t(No symbol) [0x00007FF6B5F75AEB]\n\t(No symbol) [0x00007FF6B5F5288C]\n\t(No symbol) [0x00007FF6B5FE5DD7]\n\t(No symbol) [0x00007FF6B5FFB40F]\n\t(No symbol) [0x00007FF6B5FDEE53]\n\t(No symbol) [0x00007FF6B5FAF514]\n\t(No symbol) [0x00007FF6B5FB0631]\n\tGetHandleVerifier [0x00007FF6B64D6CAD+3738973]\n\tGetHandleVerifier [0x00007FF6B652C506+4089270]\n\tGetHandleVerifier [0x00007FF6B6524823+4057299]\n\tGetHandleVerifier [0x00007FF6B61F5C49+720121]\n\t(No symbol) [0x00007FF6B60D126F]\n\t(No symbol) [0x00007FF6B60CC304]\n\t(No symbol) [0x00007FF6B60CC432]\n\t(No symbol) [0x00007FF6B60BBD04]\n\tBaseThreadInitThunk [0x00007FFECD217344+20]\n\tRtlUserThreadStart [0x00007FFECE4426B1+33]\n"
     ]
    }
   ],
   "source": [
    "browser = open_browser()\n",
    "\n",
    "for url in url_list:\n",
    "    get_url(browser, url)\n",
    "    soup = BS(browser.page_source, 'html.parser')\n",
    "\n",
    "    footer_text = soup.find('footer').get_text() if soup.find('footer') else None\n",
    "    print(footer_text)\n",
    "    print('--' * 20)\n",
    "    time.sleep(1)"
   ]
  },
  {
   "cell_type": "markdown",
   "id": "a80a98ad",
   "metadata": {},
   "source": [
    "footer을 가져오는 것은 None가 너무 많이 발생해 Pass\n",
    "다른 방안을 고안"
   ]
  },
  {
   "cell_type": "code",
   "execution_count": 92,
   "id": "40813c34",
   "metadata": {},
   "outputs": [],
   "source": [
    "get_url(browser ,url_list[3])"
   ]
  },
  {
   "cell_type": "code",
   "execution_count": 95,
   "id": "10b4a8d7",
   "metadata": {},
   "outputs": [
    {
     "data": {
      "text/plain": [
       "'스톰테크'"
      ]
     },
     "execution_count": 95,
     "metadata": {},
     "output_type": "execute_result"
    }
   ],
   "source": [
    "company_name_list[3]"
   ]
  },
  {
   "cell_type": "code",
   "execution_count": 14,
   "id": "cbafbe6d",
   "metadata": {},
   "outputs": [
    {
     "name": "stdout",
     "output_type": "stream",
     "text": [
      "['TEL. 031)8015-2001\\xa0\\xa0\\xa0\\xa0FAX. 031)8015-2005\\xa0\\xa0\\xa0\\xa0MAIL. jnb@jnbeng.com']\n",
      "['TEL. 031)8015-2001\\xa0\\xa0\\xa0\\xa0FAX. 031)8015-2005\\xa0\\xa0\\xa0\\xa0MAIL. jnb@jnbeng.com']\n"
     ]
    }
   ],
   "source": [
    "soup = BS(browser.page_source, 'html.parser')\n",
    "\n",
    "# \"@\"이 포함된 텍스트만 출력\n",
    "# 정규식 패턴\n",
    "email_pattern = re.compile(r'^[a-zA-Z0-9+-_.]+@[a-zA-Z0-9-]+\\.[a-zA-Z0-9-.]+$')\n",
    "email_pattern2 = re.compile(r'^.*[a-zA-Z0-9+-_.]+@[a-zA-Z0-9-]+\\.[a-zA-Z0-9-.]+$')\n",
    "\n",
    "elements = soup.get_text()\n",
    "elements = elements.split('\\n')\n",
    "\n",
    "data = {}\n",
    "\n",
    "\n",
    "for i in elements:\n",
    "    matches = re.findall(email_pattern2, i)\n",
    "    if len(matches) >= 1:\n",
    "        print(matches)"
   ]
  },
  {
   "cell_type": "code",
   "execution_count": 14,
   "id": "2ae92396",
   "metadata": {},
   "outputs": [],
   "source": [
    "def add_email_info(company, email):\n",
    "    try:\n",
    "        with open('email_info.json', 'r', encoding='utf-8') as json_file:\n",
    "            email_info = json.load(json_file)\n",
    "    except FileNotFoundError:\n",
    "        # 파일이 없는 경우 초기화\n",
    "        email_info = {}\n",
    "\n",
    "    # 기존 정보에 새로운 정보 추가\n",
    "    email_info[company] = email\n",
    "\n",
    "    # JSON 형식으로 저장\n",
    "    with open('email_info.json', 'w', encoding='utf-8') as json_file:\n",
    "        json.dump(email_info, json_file, ensure_ascii=False, indent=2)\n",
    "\n",
    "    print(f'{company}의 이메일 정보가 추가되었습니다.')"
   ]
  },
  {
   "cell_type": "code",
   "execution_count": null,
   "id": "6ffaa130",
   "metadata": {
    "scrolled": true
   },
   "outputs": [],
   "source": [
    "browser = open_browser()\n",
    "\n",
    "for url, company_name in zip(url_list, company_name_list):\n",
    "    try:\n",
    "        get_url(browser, url)\n",
    "\n",
    "        soup = BS(browser.page_source, 'html.parser')\n",
    "\n",
    "        # \"@\"이 포함된 텍스트만 출력\n",
    "        # 정규식 패턴\n",
    "        email_pattern = re.compile(r'^[a-zA-Z0-9+-_.]+@[a-zA-Z0-9-]+\\.[a-zA-Z0-9-.]+$')\n",
    "        email_pattern2 = re.compile(r'^.*[a-zA-Z0-9+-_.]+@[a-zA-Z0-9-]+\\.[a-zA-Z0-9-.]+$')\n",
    "\n",
    "        elements = soup.get_text()\n",
    "        elements = elements.split('\\n')\n",
    "\n",
    "        data = {}\n",
    "\n",
    "\n",
    "        for i in elements:\n",
    "            matches = re.findall(email_pattern2, i)\n",
    "            if len(matches) >= 1:\n",
    "                email_pattern = r'\\b[A-Za-z0-9._%+-]+@[A-Za-z0-9.-]+\\.[A-Z|a-z]{2,}\\b'\n",
    "                emails = re.findall(email_pattern, matches[0])\n",
    "                add_email_info(company, emails)\n",
    "#                 print(f\"{company_name}: {emails}\")\n",
    "    except:\n",
    "        pass"
   ]
  },
  {
   "cell_type": "code",
   "execution_count": 12,
   "id": "4b1adcd7",
   "metadata": {},
   "outputs": [],
   "source": [
    "matches = ['Robots for Every Workplace쉽고 경제적인 협동로봇으로 안전하고 편리한 자동화를 선도합니다.Neuromeka.협동로봇의 다양한 활용을 통해 제조공정의 생산성 향상, F&B 서비스의 안정성 확대 그리고 문화예술 산업의 새로운 가능성을 뉴로메카가 함께합니다.Robot.협동로봇과 델타로봇 등 다양한 로봇 라인업을 통해 생산성 향상과 원가 절감 효과를 기대할 수 있으며 동시에 산업재해 고민도 해결할 수 있습니다.Video.동영상 보기동영상 보기01:20동영상 보기동영상 보기02:17동영상 보기동영상 보기01:44동영상 보기동영상 보기01:19동영상 보기동영상 보기03:48동영상 보기동영상 보기02:08동영상 보기동영상 보기04:39Post.News.7일 전뉴로메카, SK네트웍스서비스와 로봇 공급 총판 계약...\"기간은 2년, 이후엔 갱신\"12월 13일지능로봇 리빙랩 기반 인재육성 나선다…수원시 협약11월 10일교촌 치킨을 뉴로메카 로봇이 만든다12345Robot as a Tool |\\xa0Robot as a Service |\\xa0Robots for Every Workplace\\u200b(주)뉴로메카\\xa0 \\xa0 \\xa0서울특별시 성동구 아차산로 78, 에코넷센터 (04782) \\xa0 \\xa0 TEL : 1661-0773\\xa0 \\xa0 \\xa0영업 : sales@neuromeka.com\\xa0 \\xa0 \\xa0마케팅/홍보 : pr@neuromeka.com']"
   ]
  },
  {
   "cell_type": "code",
   "execution_count": 13,
   "id": "9921ead2",
   "metadata": {},
   "outputs": [
    {
     "name": "stdout",
     "output_type": "stream",
     "text": [
      "['sales@neuromeka.com', 'pr@neuromeka.com']\n"
     ]
    }
   ],
   "source": [
    "email_pattern = r'\\b[A-Za-z0-9._%+-]+@[A-Za-z0-9.-]+\\.[A-Z|a-z]{2,}\\b'\n",
    "emails = re.findall(email_pattern, matches[0])\n",
    "print(emails)"
   ]
  },
  {
   "cell_type": "code",
   "execution_count": 10,
   "id": "a197b4fe",
   "metadata": {
    "scrolled": true
   },
   "outputs": [
    {
     "name": "stdout",
     "output_type": "stream",
     "text": [
      "[]\n",
      "[]\n",
      "[]\n",
      "[]\n",
      "[]\n",
      "[]\n",
      "[]\n",
      "[]\n",
      "[]\n",
      "[]\n",
      "[]\n",
      "[]\n",
      "[]\n",
      "[]\n",
      "[]\n",
      "[]\n",
      "[]\n",
      "[]\n",
      "[]\n",
      "[]\n",
      "[]\n",
      "[]\n",
      "[]\n",
      "[]\n",
      "[]\n",
      "[]\n",
      "[]\n",
      "[]\n",
      "[]\n",
      "[]\n",
      "[]\n",
      "[]\n",
      "[]\n",
      "[]\n",
      "[]\n",
      "[]\n",
      "[]\n",
      "[]\n",
      "[]\n",
      "[]\n",
      "[]\n",
      "[]\n",
      "[]\n",
      "[]\n",
      "[]\n",
      "[]\n"
     ]
    }
   ],
   "source": [
    "email_addresses = []\n",
    "\n",
    "for a_tag in soup.find_all('a', href=True):\n",
    "    if 'mailto:' in a_tag['href']:\n",
    "        email_addresses.append(a_tag['href'].split(':')[1])\n",
    "\n",
    "for span_tag in soup.find_all('span'):\n",
    "    email_addresses.append(span_tag.get_text())\n",
    "\n",
    "# 결과 출력\n",
    "# print(email_addresses)\n",
    "for i in email_addresses:\n",
    "    matches = re.findall(email_pattern, i)\n",
    "    print(matches)"
   ]
  },
  {
   "cell_type": "code",
   "execution_count": 18,
   "id": "56066e68",
   "metadata": {},
   "outputs": [
    {
     "data": {
      "text/plain": [
       "['',\n",
       " '',\n",
       " '',\n",
       " 'This is the first paragraph.',\n",
       " 'This is the second paragraph.',\n",
       " 'This is the third paragraph.',\n",
       " '',\n",
       " '',\n",
       " '']"
      ]
     },
     "execution_count": 18,
     "metadata": {},
     "output_type": "execute_result"
    }
   ],
   "source": [
    "from bs4 import BeautifulSoup\n",
    "\n",
    "# 예시로 사용할 HTML\n",
    "html = \"\"\"\n",
    "<html>\n",
    "  <body>\n",
    "    <p>This is the first paragraph.</p>\n",
    "    <p>This is the second paragraph.</p>\n",
    "    <p>This is the third paragraph.</p>\n",
    "  </body>\n",
    "</html>\n",
    "\"\"\"\n",
    "\n",
    "# BeautifulSoup 객체 생성\n",
    "soup = BeautifulSoup(html, 'html.parser')\n",
    "\n",
    "# 모든 텍스트 가져오기\n",
    "all_text = soup.get_text()\n",
    "\n",
    "all_text.split('\\n')"
   ]
  }
 ],
 "metadata": {
  "kernelspec": {
   "display_name": "Python 3 (ipykernel)",
   "language": "python",
   "name": "python3"
  },
  "language_info": {
   "codemirror_mode": {
    "name": "ipython",
    "version": 3
   },
   "file_extension": ".py",
   "mimetype": "text/x-python",
   "name": "python",
   "nbconvert_exporter": "python",
   "pygments_lexer": "ipython3",
   "version": "3.11.5"
  }
 },
 "nbformat": 4,
 "nbformat_minor": 5
}
